{
 "cells": [
  {
   "cell_type": "code",
   "execution_count": 1,
   "metadata": {},
   "outputs": [],
   "source": [
    "import numpy as np\n",
    "import pandas as pd"
   ]
  },
  {
   "cell_type": "code",
   "execution_count": 2,
   "metadata": {},
   "outputs": [],
   "source": [
    "# pandas take dates automatically as date because of presence of symbols in between"
   ]
  },
  {
   "cell_type": "code",
   "execution_count": 3,
   "metadata": {},
   "outputs": [
    {
     "data": {
      "text/html": [
       "<div>\n",
       "<style scoped>\n",
       "    .dataframe tbody tr th:only-of-type {\n",
       "        vertical-align: middle;\n",
       "    }\n",
       "\n",
       "    .dataframe tbody tr th {\n",
       "        vertical-align: top;\n",
       "    }\n",
       "\n",
       "    .dataframe thead th {\n",
       "        text-align: right;\n",
       "    }\n",
       "</style>\n",
       "<table border=\"1\" class=\"dataframe\">\n",
       "  <thead>\n",
       "    <tr style=\"text-align: right;\">\n",
       "      <th></th>\n",
       "      <th>m/d/y</th>\n",
       "      <th>d/y/m</th>\n",
       "      <th>d_t y_m_d</th>\n",
       "      <th>y/m/d</th>\n",
       "    </tr>\n",
       "  </thead>\n",
       "  <tbody>\n",
       "    <tr>\n",
       "      <th>0</th>\n",
       "      <td>4/22/96</td>\n",
       "      <td>22-Apr-96</td>\n",
       "      <td>tue aug 11 09:50:35 1996</td>\n",
       "      <td>22-06-2007</td>\n",
       "    </tr>\n",
       "    <tr>\n",
       "      <th>1</th>\n",
       "      <td>4/23/96</td>\n",
       "      <td>23-Apr-96</td>\n",
       "      <td>tue may 12 19:50:35 2016</td>\n",
       "      <td>09-01-2017</td>\n",
       "    </tr>\n",
       "    <tr>\n",
       "      <th>2</th>\n",
       "      <td>5/14/96</td>\n",
       "      <td>14-May-96</td>\n",
       "      <td>mon oct 14 09:50:35 2017</td>\n",
       "      <td>12-04-1998</td>\n",
       "    </tr>\n",
       "    <tr>\n",
       "      <th>3</th>\n",
       "      <td>5/15/96</td>\n",
       "      <td>15-May-96</td>\n",
       "      <td>tue jan 11 09:50:35 2018</td>\n",
       "      <td>22-07-2027</td>\n",
       "    </tr>\n",
       "    <tr>\n",
       "      <th>4</th>\n",
       "      <td>5/16/01</td>\n",
       "      <td>16-May-01</td>\n",
       "      <td>fri mar 11 07:30:36 2019</td>\n",
       "      <td>15-11-1945</td>\n",
       "    </tr>\n",
       "  </tbody>\n",
       "</table>\n",
       "</div>"
      ],
      "text/plain": [
       "     m/d/y      d/y/m                 d_t y_m_d       y/m/d\n",
       "0  4/22/96  22-Apr-96  tue aug 11 09:50:35 1996  22-06-2007\n",
       "1  4/23/96  23-Apr-96  tue may 12 19:50:35 2016  09-01-2017\n",
       "2  5/14/96  14-May-96  mon oct 14 09:50:35 2017  12-04-1998\n",
       "3  5/15/96  15-May-96  tue jan 11 09:50:35 2018  22-07-2027\n",
       "4  5/16/01  16-May-01  fri mar 11 07:30:36 2019  15-11-1945"
      ]
     },
     "execution_count": 3,
     "metadata": {},
     "output_type": "execute_result"
    }
   ],
   "source": [
    "dates = pd.read_csv(r\"C:\\Users\\avira\\OneDrive\\Desktop\\Aviral - ml\\Aviral\\Phase 2\\Exploring Data\\archive\\dates.csv\")\n",
    "dates\n"
   ]
  },
  {
   "cell_type": "code",
   "execution_count": 5,
   "metadata": {},
   "outputs": [
    {
     "name": "stderr",
     "output_type": "stream",
     "text": [
      "C:\\Users\\avira\\AppData\\Local\\Temp\\ipykernel_5700\\3251797819.py:1: UserWarning: Could not infer format, so each element will be parsed individually, falling back to `dateutil`. To ensure parsing is consistent and as-expected, please specify a format.\n",
      "  dates = pd.read_csv(r\"C:\\Users\\avira\\OneDrive\\Desktop\\Aviral - ml\\Aviral\\Phase 2\\Exploring Data\\archive\\dates.csv\",\n",
      "C:\\Users\\avira\\AppData\\Local\\Temp\\ipykernel_5700\\3251797819.py:1: UserWarning: Could not infer format, so each element will be parsed individually, falling back to `dateutil`. To ensure parsing is consistent and as-expected, please specify a format.\n",
      "  dates = pd.read_csv(r\"C:\\Users\\avira\\OneDrive\\Desktop\\Aviral - ml\\Aviral\\Phase 2\\Exploring Data\\archive\\dates.csv\",\n",
      "C:\\Users\\avira\\AppData\\Local\\Temp\\ipykernel_5700\\3251797819.py:1: UserWarning: Could not infer format, so each element will be parsed individually, falling back to `dateutil`. To ensure parsing is consistent and as-expected, please specify a format.\n",
      "  dates = pd.read_csv(r\"C:\\Users\\avira\\OneDrive\\Desktop\\Aviral - ml\\Aviral\\Phase 2\\Exploring Data\\archive\\dates.csv\",\n",
      "C:\\Users\\avira\\AppData\\Local\\Temp\\ipykernel_5700\\3251797819.py:1: UserWarning: Parsing dates in %d-%m-%Y format when dayfirst=False (the default) was specified. Pass `dayfirst=True` or specify a format to silence this warning.\n",
      "  dates = pd.read_csv(r\"C:\\Users\\avira\\OneDrive\\Desktop\\Aviral - ml\\Aviral\\Phase 2\\Exploring Data\\archive\\dates.csv\",\n"
     ]
    }
   ],
   "source": [
    "dates = pd.read_csv(r\"C:\\Users\\avira\\OneDrive\\Desktop\\Aviral - ml\\Aviral\\Phase 2\\Exploring Data\\archive\\dates.csv\",\n",
    "                    parse_dates=[0,1,2,3]) #convert cols to timestamps"
   ]
  },
  {
   "cell_type": "code",
   "execution_count": 7,
   "metadata": {},
   "outputs": [],
   "source": [
    "odd_date = \"12:30:15 2015-29-11\" #cant be timestamps"
   ]
  },
  {
   "cell_type": "code",
   "execution_count": 8,
   "metadata": {},
   "outputs": [
    {
     "data": {
      "text/plain": [
       "Timestamp('2015-11-29 12:30:15')"
      ]
     },
     "execution_count": 8,
     "metadata": {},
     "output_type": "execute_result"
    }
   ],
   "source": [
    "pd.to_datetime(odd_date, format = \"%H:%M:%S %Y-%d-%m\")"
   ]
  },
  {
   "cell_type": "code",
   "execution_count": null,
   "metadata": {},
   "outputs": [],
   "source": []
  }
 ],
 "metadata": {
  "kernelspec": {
   "display_name": "condaenv",
   "language": "python",
   "name": "python3"
  },
  "language_info": {
   "codemirror_mode": {
    "name": "ipython",
    "version": 3
   },
   "file_extension": ".py",
   "mimetype": "text/x-python",
   "name": "python",
   "nbconvert_exporter": "python",
   "pygments_lexer": "ipython3",
   "version": "3.12.4"
  }
 },
 "nbformat": 4,
 "nbformat_minor": 2
}
