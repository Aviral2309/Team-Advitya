{
 "cells": [
  {
   "cell_type": "code",
   "execution_count": 99,
   "metadata": {},
   "outputs": [],
   "source": [
    "import pandas as pd"
   ]
  },
  {
   "cell_type": "code",
   "execution_count": 100,
   "metadata": {},
   "outputs": [],
   "source": [
    "comments = pd.read_csv(r'C:\\Users\\avira\\OneDrive\\Desktop\\Aviral - ml\\Aviral\\Phase 2\\Exploring Data\\archive\\Youtube-Spam-Dataset.csv')"
   ]
  },
  {
   "cell_type": "code",
   "execution_count": 101,
   "metadata": {},
   "outputs": [
    {
     "name": "stdout",
     "output_type": "stream",
     "text": [
      "(1956, 1)\n"
     ]
    },
    {
     "data": {
      "text/html": [
       "<div>\n",
       "<style scoped>\n",
       "    .dataframe tbody tr th:only-of-type {\n",
       "        vertical-align: middle;\n",
       "    }\n",
       "\n",
       "    .dataframe tbody tr th {\n",
       "        vertical-align: top;\n",
       "    }\n",
       "\n",
       "    .dataframe thead th {\n",
       "        text-align: right;\n",
       "    }\n",
       "</style>\n",
       "<table border=\"1\" class=\"dataframe\">\n",
       "  <thead>\n",
       "    <tr style=\"text-align: right;\">\n",
       "      <th></th>\n",
       "      <th>content</th>\n",
       "    </tr>\n",
       "  </thead>\n",
       "  <tbody>\n",
       "    <tr>\n",
       "      <th>0</th>\n",
       "      <td>Huh, anyway check out this you[tube] channel: ...</td>\n",
       "    </tr>\n",
       "    <tr>\n",
       "      <th>1</th>\n",
       "      <td>Hey guys check out my new channel and our firs...</td>\n",
       "    </tr>\n",
       "    <tr>\n",
       "      <th>2</th>\n",
       "      <td>just for test I have to say murdev.com</td>\n",
       "    </tr>\n",
       "    <tr>\n",
       "      <th>3</th>\n",
       "      <td>me shaking my sexy ass on my channel enjoy ^_^ ﻿</td>\n",
       "    </tr>\n",
       "    <tr>\n",
       "      <th>4</th>\n",
       "      <td>watch?v=vtaRGgvGtWQ   Check this out .﻿</td>\n",
       "    </tr>\n",
       "    <tr>\n",
       "      <th>5</th>\n",
       "      <td>Hey, check out my new website!! This site is a...</td>\n",
       "    </tr>\n",
       "    <tr>\n",
       "      <th>6</th>\n",
       "      <td>Subscribe to my channel ﻿</td>\n",
       "    </tr>\n",
       "    <tr>\n",
       "      <th>7</th>\n",
       "      <td>i turned it on mute as soon is i came on i jus...</td>\n",
       "    </tr>\n",
       "  </tbody>\n",
       "</table>\n",
       "</div>"
      ],
      "text/plain": [
       "                                             content\n",
       "0  Huh, anyway check out this you[tube] channel: ...\n",
       "1  Hey guys check out my new channel and our firs...\n",
       "2             just for test I have to say murdev.com\n",
       "3   me shaking my sexy ass on my channel enjoy ^_^ ﻿\n",
       "4            watch?v=vtaRGgvGtWQ   Check this out .﻿\n",
       "5  Hey, check out my new website!! This site is a...\n",
       "6                          Subscribe to my channel ﻿\n",
       "7  i turned it on mute as soon is i came on i jus..."
      ]
     },
     "execution_count": 101,
     "metadata": {},
     "output_type": "execute_result"
    }
   ],
   "source": [
    "\n",
    "print(comments.shape)\n",
    "comments.head(8)"
   ]
  },
  {
   "cell_type": "code",
   "execution_count": 102,
   "metadata": {},
   "outputs": [
    {
     "name": "stdout",
     "output_type": "stream",
     "text": [
      "0     content    Huh, anyway check out this you[tube] channel: ...\n",
      "1     content    Hey guys check out my new channel and our firs...\n",
      "2     content               just for test I have to say murdev.com\n",
      "3     content     me shaking my sexy ass on my channel enjoy ^_^ ﻿\n",
      "4     content              watch?v=vtaRGgvGtWQ   Check this out .﻿\n",
      "                                       ...                        \n",
      "1951  content    I love this song because we sing it at Camp al...\n",
      "1952  content    I love this song for two reasons: 1.it is abou...\n",
      "1953  content                                                  wow\n",
      "1954  content                              Shakira u are so wiredo\n",
      "1955  content                           Shakira is the best dancer\n",
      "Length: 1956, dtype: object\n"
     ]
    }
   ],
   "source": [
    "comments = comments.stack()\n",
    "print(comments)\n"
   ]
  },
  {
   "cell_type": "code",
   "execution_count": 103,
   "metadata": {},
   "outputs": [
    {
     "name": "stdout",
     "output_type": "stream",
     "text": [
      "0     content    huh, anyway check out this you[tube] channel: ...\n",
      "1     content    Hey guys check out my new channel and our firs...\n",
      "2     content               just for test I have to say murdev.com\n",
      "3     content     me shaking my sexy ass on my channel enjoy ^_^ ﻿\n",
      "4     content              watch?v=vtaRGgvGtWQ   Check this out .﻿\n",
      "                                       ...                        \n",
      "1951  content    I love this song because we sing it at Camp al...\n",
      "1952  content    I love this song for two reasons: 1.it is abou...\n",
      "1953  content                                                  wow\n",
      "1954  content                              Shakira u are so wiredo\n",
      "1955  content                           Shakira is the best dancer\n",
      "Length: 1956, dtype: object\n"
     ]
    }
   ],
   "source": [
    "comments.iloc[0] = comments.iloc[0].lower() #lower case first comment\n",
    "print(comments)"
   ]
  },
  {
   "cell_type": "code",
   "execution_count": 104,
   "metadata": {},
   "outputs": [],
   "source": [
    "# comments = comments.str.lower().head(6)   # lower all comments\n",
    "# print(comments) # use upper for upper case"
   ]
  },
  {
   "cell_type": "code",
   "execution_count": 105,
   "metadata": {},
   "outputs": [
    {
     "data": {
      "text/plain": [
       "0  content     56\n",
       "1  content    166\n",
       "2  content     38\n",
       "3  content     48\n",
       "4  content     39\n",
       "5  content     82\n",
       "6  content     25\n",
       "7  content     78\n",
       "dtype: int64"
      ]
     },
     "execution_count": 105,
     "metadata": {},
     "output_type": "execute_result"
    }
   ],
   "source": [
    "comments.str.len().head(8) # to get lenght of all comments"
   ]
  },
  {
   "cell_type": "code",
   "execution_count": 106,
   "metadata": {},
   "outputs": [
    {
     "data": {
      "text/plain": [
       "0  content    [huh,, anyway, check, out, this, you[tube], ch...\n",
       "1  content    [Hey, guys, check, out, my, new, channel, and,...\n",
       "2  content      [just, for, test, I, have, to, say, murdev.com]\n",
       "3  content    [me, shaking, my, sexy, ass, on, my, channel, ...\n",
       "4  content      [watch?v=vtaRGgvGtWQ, , , Check, this, out, .﻿]\n",
       "dtype: object"
      ]
     },
     "execution_count": 106,
     "metadata": {},
     "output_type": "execute_result"
    }
   ],
   "source": [
    "comments.str.split(\" \").head(5) # splits comments on spaces"
   ]
  },
  {
   "cell_type": "code",
   "execution_count": 109,
   "metadata": {},
   "outputs": [
    {
     "data": {
      "text/plain": [
       "\"huh, anyway check out this you[tube] channel: kobyoshi02Hey guys check out my new channel and our first vid THIS IS US THE  MONKEYS!!! I'm the monkey in the white shirt,please leave a like comment  and please subscribe!!!!just for test I have to say murdev.comme shaking my sexy ass on my channel enjoy ^_^ \\ufeffwatch?v=vtaRGgvGtWQ   Check this out .\\ufeffHey, check out my new website!! This site is about kids stuff. kidsmediausa  . comSubscribe to my channel \\ufeffi turned it on mute as soon is i came on i jus\""
      ]
     },
     "execution_count": 109,
     "metadata": {},
     "output_type": "execute_result"
    }
   ],
   "source": [
    "comments.str.cat()[0:500]  # check the first 500"
   ]
  },
  {
   "cell_type": "code",
   "execution_count": 110,
   "metadata": {},
   "outputs": [
    {
     "data": {
      "text/plain": [
       "0  content    huh, anywa\n",
       "1  content    Hey guys c\n",
       "2  content    just for t\n",
       "3  content    me shaking\n",
       "dtype: object"
      ]
     },
     "execution_count": 110,
     "metadata": {},
     "output_type": "execute_result"
    }
   ],
   "source": [
    "comments.str.slice(0,10).head(4) # slice the first 10 char"
   ]
  },
  {
   "cell_type": "code",
   "execution_count": 111,
   "metadata": {},
   "outputs": [
    {
     "data": {
      "text/plain": [
       "0  content    huh,  wolves rule! y check out this you[tube] ...\n",
       "1  content    Hey g wolves rule! heck out my new channel and...\n",
       "2  content      just  wolves rule! est I have to say murdev.com\n",
       "3  content    me sh wolves rule!  my sexy ass on my channel ...\n",
       "dtype: object"
      ]
     },
     "execution_count": 111,
     "metadata": {},
     "output_type": "execute_result"
    }
   ],
   "source": [
    "comments.str.slice_replace(5,10,\" wolves rule! \").head(4)"
   ]
  },
  {
   "cell_type": "code",
   "execution_count": 112,
   "metadata": {},
   "outputs": [
    {
     "data": {
      "text/plain": [
       "1   content    Hey guys check out my new channel and our firs...\n",
       "2   content               just for test I have to say murdev.com\n",
       "5   content    Hey, check out my new website!! This site is a...\n",
       "12  content                 https://twitter.com/GBphotographyGB﻿\n",
       "13  content                              subscribe like comment﻿\n",
       "14  content    please like :D https://premium.easypromosapp.c...\n",
       "17  content    http://www.ebay.com/itm/171183229277?ssPageNam...\n",
       "18  content         http://ubuntuone.com/40beUutVu2ZKxK4uTgPZ8K﻿\n",
       "19  content    We are an EDM apparel company dedicated to bri...\n",
       "20  content    i think about 100 millions of the views come f...\n",
       "dtype: object"
      ]
     },
     "execution_count": 112,
     "metadata": {},
     "output_type": "execute_result"
    }
   ],
   "source": [
    "logical_index = comments.str.lower().str.contains(\"com\")\n",
    "comments[logical_index].head(10)   # get first 10 comments about com"
   ]
  },
  {
   "cell_type": "code",
   "execution_count": 113,
   "metadata": {},
   "outputs": [
    {
     "data": {
      "text/plain": [
       "0.19427402862985685"
      ]
     },
     "execution_count": 113,
     "metadata": {},
     "output_type": "execute_result"
    }
   ],
   "source": [
    "len(comments[logical_index])/len(comments)"
   ]
  },
  {
   "cell_type": "code",
   "execution_count": 114,
   "metadata": {},
   "outputs": [
    {
     "data": {
      "text/plain": [
       "0    False\n",
       "1    False\n",
       "2    False\n",
       "3     True\n",
       "dtype: bool"
      ]
     },
     "execution_count": 114,
     "metadata": {},
     "output_type": "execute_result"
    }
   ],
   "source": [
    "ex_str3 = pd.Series([\"aabcbcb\", \"abbb\", \"abbaab\", \"aabb\"])\n",
    "ex_str3.str.contains(\"a{2}b{2,}\") # match 2 a then 2 or more b"
   ]
  },
  {
   "cell_type": "code",
   "execution_count": 116,
   "metadata": {},
   "outputs": [
    {
     "name": "stdout",
     "output_type": "stream",
     "text": [
      "197\n"
     ]
    },
    {
     "data": {
      "text/plain": [
       "12  content                 https://twitter.com/GBphotographyGB﻿\n",
       "14  content    please like :D https://premium.easypromosapp.c...\n",
       "17  content    http://www.ebay.com/itm/171183229277?ssPageNam...\n",
       "18  content         http://ubuntuone.com/40beUutVu2ZKxK4uTgPZ8K﻿\n",
       "22  content    Show your AUBURN PRIDE HERE: http://www.teespr...\n",
       "39  content    The projects After Effects, Music, Foto, Web s...\n",
       "43  content    http://www.twitch.tv/jaroadc come follow and w...\n",
       "47  content    http://www.avaaz.org/po/petition/Youtube_Corpo...\n",
       "53  content    https://www.facebook.com/pages/Brew-Crew-2014/...\n",
       "54  content    get GWAR to play 2015 superbowl  http://www.ch...\n",
       "dtype: object"
      ]
     },
     "execution_count": 116,
     "metadata": {},
     "output_type": "execute_result"
    }
   ],
   "source": [
    "web_links = comments.str.contains(r\"https?:\")\n",
    "posts_with_link = comments[web_links]\n",
    "print(len(posts_with_link))\n",
    "posts_with_link.head(10)"
   ]
  }
 ],
 "metadata": {
  "kernelspec": {
   "display_name": "condaenv",
   "language": "python",
   "name": "python3"
  },
  "language_info": {
   "codemirror_mode": {
    "name": "ipython",
    "version": 3
   },
   "file_extension": ".py",
   "mimetype": "text/x-python",
   "name": "python",
   "nbconvert_exporter": "python",
   "pygments_lexer": "ipython3",
   "version": "3.12.4"
  }
 },
 "nbformat": 4,
 "nbformat_minor": 2
}
